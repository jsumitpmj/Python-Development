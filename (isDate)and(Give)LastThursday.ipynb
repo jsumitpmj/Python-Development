{
 "cells": [
  {
   "cell_type": "code",
   "execution_count": 1,
   "metadata": {},
   "outputs": [],
   "source": [
    "import pandas as pd"
   ]
  },
  {
   "cell_type": "code",
   "execution_count": 2,
   "metadata": {},
   "outputs": [
    {
     "data": {
      "text/html": [
       "<div>\n",
       "<style scoped>\n",
       "    .dataframe tbody tr th:only-of-type {\n",
       "        vertical-align: middle;\n",
       "    }\n",
       "\n",
       "    .dataframe tbody tr th {\n",
       "        vertical-align: top;\n",
       "    }\n",
       "\n",
       "    .dataframe thead th {\n",
       "        text-align: right;\n",
       "    }\n",
       "</style>\n",
       "<table border=\"1\" class=\"dataframe\">\n",
       "  <thead>\n",
       "    <tr style=\"text-align: right;\">\n",
       "      <th></th>\n",
       "      <th>Date</th>\n",
       "    </tr>\n",
       "  </thead>\n",
       "  <tbody>\n",
       "    <tr>\n",
       "      <td>0</td>\n",
       "      <td>01-Jan-20</td>\n",
       "    </tr>\n",
       "    <tr>\n",
       "      <td>1</td>\n",
       "      <td>02-Jan-20</td>\n",
       "    </tr>\n",
       "    <tr>\n",
       "      <td>2</td>\n",
       "      <td>03-Jan-20</td>\n",
       "    </tr>\n",
       "    <tr>\n",
       "      <td>3</td>\n",
       "      <td>04-Jan-20</td>\n",
       "    </tr>\n",
       "    <tr>\n",
       "      <td>4</td>\n",
       "      <td>05-Jan-20</td>\n",
       "    </tr>\n",
       "  </tbody>\n",
       "</table>\n",
       "</div>"
      ],
      "text/plain": [
       "        Date\n",
       "0  01-Jan-20\n",
       "1  02-Jan-20\n",
       "2  03-Jan-20\n",
       "3  04-Jan-20\n",
       "4  05-Jan-20"
      ]
     },
     "execution_count": 2,
     "metadata": {},
     "output_type": "execute_result"
    }
   ],
   "source": [
    "df = pd.read_csv('IP1.csv')\n",
    "df.head()"
   ]
  },
  {
   "cell_type": "code",
   "execution_count": 3,
   "metadata": {},
   "outputs": [],
   "source": [
    "# Followed the Date Formats which are obtained from The given website csv files. Please find attached documents in the folder\n",
    "def isLastThursday(input_date) :\n",
    "    from datetime import datetime as ds\n",
    "    import datetime as dt\n",
    "    m = str(ds.strptime(input_date,'%d-%b-%y'))         # used strptime to convert string to datetime\n",
    "    x, y, z = int(m[0:4]), int(m[5:7]), int(m[8:10])    # x = year, y = month, z = day   # striping through dates\n",
    "    f = dt.datetime(x,y,z)                              # getting in datetime format string\n",
    "    w = int(f.strftime('%w'))                           # searching for day e.g Thursday == 4\n",
    "    bigm = [1,3,5,7,8,10,12]   \n",
    "    if z > 21 and w == 4:                               # if the date is greater than 21 and is Thursday\n",
    "        if x%4 == 0 :                                   # finding the leap year\n",
    "            ad = 1\n",
    "        else :\n",
    "            ad = 0\n",
    "        if y in bigm :                                  # finding the days in month\n",
    "            total_days = 31\n",
    "        else :\n",
    "            if y == 2 :                                 # for february\n",
    "                total_days = 28 + ad\n",
    "            else :\n",
    "                total_days = 30\n",
    "        diff = total_days - z                           # diff between total days in month and given date\n",
    "        if diff < 7 :                                   # if our output Thursday is Last Thursday\n",
    "            return input_date\n",
    "        else :\n",
    "            return 0\n",
    "    else :\n",
    "        return 0"
   ]
  },
  {
   "cell_type": "code",
   "execution_count": 4,
   "metadata": {},
   "outputs": [
    {
     "name": "stdout",
     "output_type": "stream",
     "text": [
      "30-Jan-20\n",
      "27-Feb-20\n",
      "26-Mar-20\n",
      "30-Apr-20\n",
      "28-May-20\n",
      "25-Jun-20\n",
      "30-Jul-20\n",
      "27-Aug-20\n",
      "24-Sep-20\n",
      "29-Oct-20\n",
      "26-Nov-20\n",
      "31-Dec-20\n"
     ]
    }
   ],
   "source": [
    "for i in df.Date :\n",
    "    p = isLastThursday(i)\n",
    "    if p == 0 :\n",
    "        continue\n",
    "    print(p)"
   ]
  },
  {
   "cell_type": "code",
   "execution_count": 5,
   "metadata": {},
   "outputs": [
    {
     "data": {
      "text/html": [
       "<div>\n",
       "<style scoped>\n",
       "    .dataframe tbody tr th:only-of-type {\n",
       "        vertical-align: middle;\n",
       "    }\n",
       "\n",
       "    .dataframe tbody tr th {\n",
       "        vertical-align: top;\n",
       "    }\n",
       "\n",
       "    .dataframe thead th {\n",
       "        text-align: right;\n",
       "    }\n",
       "</style>\n",
       "<table border=\"1\" class=\"dataframe\">\n",
       "  <thead>\n",
       "    <tr style=\"text-align: right;\">\n",
       "      <th></th>\n",
       "      <th>Date</th>\n",
       "    </tr>\n",
       "  </thead>\n",
       "  <tbody>\n",
       "    <tr>\n",
       "      <td>0</td>\n",
       "      <td>01-Jan-17</td>\n",
       "    </tr>\n",
       "    <tr>\n",
       "      <td>1</td>\n",
       "      <td>01-Feb-17</td>\n",
       "    </tr>\n",
       "    <tr>\n",
       "      <td>2</td>\n",
       "      <td>01-Mar-17</td>\n",
       "    </tr>\n",
       "    <tr>\n",
       "      <td>3</td>\n",
       "      <td>01-Apr-17</td>\n",
       "    </tr>\n",
       "    <tr>\n",
       "      <td>4</td>\n",
       "      <td>01-May-17</td>\n",
       "    </tr>\n",
       "  </tbody>\n",
       "</table>\n",
       "</div>"
      ],
      "text/plain": [
       "        Date\n",
       "0  01-Jan-17\n",
       "1  01-Feb-17\n",
       "2  01-Mar-17\n",
       "3  01-Apr-17\n",
       "4  01-May-17"
      ]
     },
     "execution_count": 5,
     "metadata": {},
     "output_type": "execute_result"
    }
   ],
   "source": [
    "df = pd.read_csv('IP2.csv')\n",
    "df.head()"
   ]
  },
  {
   "cell_type": "code",
   "execution_count": 6,
   "metadata": {},
   "outputs": [],
   "source": [
    "def getLastThursday(input_month) :\n",
    "    from datetime import datetime as ds\n",
    "    import datetime as dt\n",
    "    m = str(ds.strptime(input_month,'%b-%y'))                 # used strptime to convert string to datetime\n",
    "    x, y = int(m[0:4]), int(m[5:7])  # x = year, y = month    # striping through dates\n",
    "    bigm = [1,3,5,7,8,10,12]\n",
    "    if x%4 == 0 :                                             # finding the leap year\n",
    "        ad = 1\n",
    "    else :\n",
    "        ad = 0\n",
    "    if y in bigm :                                            # finding the days in month\n",
    "        total_days = 31\n",
    "    else :\n",
    "        if y == 2 :                                           # for february\n",
    "            total_days = 28 + ad\n",
    "        else :\n",
    "            total_days = 30\n",
    "    while True :                                              # from the end of month looping backwards to find the latest Thursday\n",
    "        f = dt.datetime(x,y,total_days)\n",
    "        w = int(f.strftime('%w'))                             # returns the number of day in a week\n",
    "        if w == 4 :                                           # if day is Thursday\n",
    "            f  = str(f)\n",
    "            res = f[8:10] + '-' + input_month[:]              # Date String\n",
    "            break\n",
    "        total_days -= 1\n",
    "    return res"
   ]
  },
  {
   "cell_type": "code",
   "execution_count": 8,
   "metadata": {},
   "outputs": [
    {
     "name": "stdout",
     "output_type": "stream",
     "text": [
      "26-Jan-17\n",
      "23-Feb-17\n",
      "30-Mar-17\n",
      "27-Apr-17\n",
      "25-May-17\n",
      "29-Jun-17\n",
      "27-Jul-17\n",
      "31-Aug-17\n",
      "28-Sep-17\n",
      "26-Oct-17\n",
      "30-Nov-17\n",
      "28-Dec-17\n",
      "25-Jan-18\n",
      "22-Feb-18\n",
      "29-Mar-18\n",
      "26-Apr-18\n",
      "31-May-18\n",
      "28-Jun-18\n",
      "26-Jul-18\n",
      "30-Aug-18\n",
      "27-Sep-18\n",
      "25-Oct-18\n",
      "29-Nov-18\n",
      "27-Dec-18\n",
      "31-Jan-19\n",
      "28-Feb-19\n",
      "28-Mar-19\n",
      "25-Apr-19\n",
      "30-May-19\n",
      "27-Jun-19\n",
      "25-Jul-19\n",
      "29-Aug-19\n",
      "26-Sep-19\n",
      "31-Oct-19\n",
      "28-Nov-19\n",
      "26-Dec-19\n",
      "30-Jan-20\n",
      "27-Feb-20\n",
      "26-Mar-20\n",
      "30-Apr-20\n",
      "28-May-20\n",
      "25-Jun-20\n",
      "30-Jul-20\n",
      "27-Aug-20\n",
      "24-Sep-20\n",
      "29-Oct-20\n",
      "26-Nov-20\n",
      "31-Dec-20\n",
      "28-Jan-21\n",
      "25-Feb-21\n",
      "25-Mar-21\n",
      "29-Apr-21\n",
      "27-May-21\n",
      "24-Jun-21\n",
      "29-Jul-21\n",
      "26-Aug-21\n",
      "30-Sep-21\n",
      "28-Oct-21\n",
      "25-Nov-21\n",
      "30-Dec-21\n"
     ]
    }
   ],
   "source": [
    "for i in df.Date :\n",
    "    i = i[3:]\n",
    "    p = getLastThursday(i)\n",
    "    print(p)"
   ]
  },
  {
   "cell_type": "code",
   "execution_count": null,
   "metadata": {},
   "outputs": [],
   "source": []
  }
 ],
 "metadata": {
  "kernelspec": {
   "display_name": "Python 3",
   "language": "python",
   "name": "python3"
  },
  "language_info": {
   "codemirror_mode": {
    "name": "ipython",
    "version": 3
   },
   "file_extension": ".py",
   "mimetype": "text/x-python",
   "name": "python",
   "nbconvert_exporter": "python",
   "pygments_lexer": "ipython3",
   "version": "3.7.4"
  }
 },
 "nbformat": 4,
 "nbformat_minor": 2
}
